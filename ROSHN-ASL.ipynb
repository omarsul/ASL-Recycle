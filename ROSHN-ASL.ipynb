{
 "cells": [
  {
   "cell_type": "code",
   "execution_count": null,
   "id": "3dc96c14-5a01-4ee8-9ef5-e6f6ba1457db",
   "metadata": {},
   "outputs": [],
   "source": [
    "import pandas as pd\n",
    "import numpy as np\n",
    "import tensorflow as tf\n",
    "import os\n",
    "import csv\n",
    "import base64\n",
    "from google.cloud import aiplatform"
   ]
  },
  {
   "cell_type": "markdown",
   "id": "25118385-b539-4523-88e5-d9b1e592ea6d",
   "metadata": {},
   "source": [
    "# Creating a CSV file for the dataset stored in GCS"
   ]
  },
  {
   "cell_type": "code",
   "execution_count": null,
   "id": "180ca10f-4058-480b-900e-fa17934fc9da",
   "metadata": {
    "tags": []
   },
   "outputs": [
    {
     "name": "stdout",
     "output_type": "stream",
     "text": [
      "gs://qwiklabs-asl-02-71a732dc6bb9/ROSHN-ASL/DATASET/TRAIN/Glass/R_3850.jpg\n",
      "gs://qwiklabs-asl-02-71a732dc6bb9/ROSHN-ASL/DATASET/TRAIN/Glass/R_3851.jpg\n",
      "gs://qwiklabs-asl-02-71a732dc6bb9/ROSHN-ASL/DATASET/TRAIN/Glass/R_3852.jpg\n",
      "gs://qwiklabs-asl-02-71a732dc6bb9/ROSHN-ASL/DATASET/TRAIN/Glass/R_3853.jpg\n",
      "gs://qwiklabs-asl-02-71a732dc6bb9/ROSHN-ASL/DATASET/TRAIN/Glass/R_3854.jpg\n",
      "gs://qwiklabs-asl-02-71a732dc6bb9/ROSHN-ASL/DATASET/TRAIN/Glass/R_3855.jpg\n",
      "gs://qwiklabs-asl-02-71a732dc6bb9/ROSHN-ASL/DATASET/TRAIN/Glass/R_3856.jpg\n",
      "gs://qwiklabs-asl-02-71a732dc6bb9/ROSHN-ASL/DATASET/TRAIN/Glass/R_3857.jpg\n",
      "gs://qwiklabs-asl-02-71a732dc6bb9/ROSHN-ASL/DATASET/TRAIN/Glass/R_3858.jpg\n",
      "gs://qwiklabs-asl-02-71a732dc6bb9/ROSHN-ASL/DATASET/TRAIN/Glass/R_3859.jpg\n",
      "Exception ignored in: <_io.TextIOWrapper name='<stdout>' mode='w' encoding='utf-8'>\n",
      "BrokenPipeError: [Errno 32] Broken pipe\n"
     ]
    }
   ],
   "source": [
    "!gsutil ls gs://qwiklabs-asl-02-71a732dc6bb9/ROSHN-ASL/DATASET/TRAIN/Glass | head"
   ]
  },
  {
   "cell_type": "code",
   "execution_count": null,
   "id": "880fc2e6-8e53-4b12-8ee5-cc5432c767d4",
   "metadata": {},
   "outputs": [],
   "source": [
    "csv_file = \"training_dataset.csv\"\n",
    "data_list = []\n",
    "LABELS = [\"Glass\",\"Metal\",\"Organic\",\"Paper\",\"Plastic\"]\n",
    "for label in LABELS:\n",
    "    data = !gsutil ls gs://qwiklabs-asl-02-71a732dc6bb9/ROSHN-ASL/DATASET/TRAIN/{label}\n",
    "    for i,img in enumerate(data):\n",
    "        assign = \"TRAIN\" if i % 5 > 0 else \"VALIDATION\"\n",
    "        data_list.append([assign,img,label])\n",
    "\n",
    "with open(csv_file,\"w\") as f:\n",
    "    write = csv.writer(f)\n",
    "    write.writerows(data_list)"
   ]
  },
  {
   "cell_type": "code",
   "execution_count": null,
   "id": "a31bab65-1a28-4b69-89a8-8cebcb6775e4",
   "metadata": {},
   "outputs": [
    {
     "name": "stdout",
     "output_type": "stream",
     "text": [
      "Copying file://./training_dataset.csv [Content-Type=text/csv]...\n",
      "/ [1/1 files][  1.9 MiB/  1.9 MiB] 100% Done                                    \n",
      "Operation completed over 1 objects/1.9 MiB.                                      \n"
     ]
    }
   ],
   "source": [
    "!gsutil -m cp -r ./training_dataset.csv gs://qwiklabs-asl-02-71a732dc6bb9/ROSHN-ASL/DATASET/TRAIN"
   ]
  },
  {
   "cell_type": "markdown",
   "id": "62cfc42c-4c15-4586-9b57-f3378efc60a0",
   "metadata": {},
   "source": [
    "ds = aiplatform.ImageDataset.create(\n",
    "    display_name=\"waste_ds\",\n",
    "    gcs_source=\"gs://qwiklabs-asl-02-71a732dc6bb9/ROSHN-ASL/DATASET/TRAIN/training_dataset.csv\",\n",
    "    import_schema_uri=aiplatform.schema.dataset.ioformat.image.single_label_classification,\n",
    "    sync=True,\n",
    ")"
   ]
  },
  {
   "cell_type": "markdown",
   "id": "1da37cce-a00f-42ef-94f7-875dfed5bc51",
   "metadata": {},
   "source": [
    "# Creating an image classification model using TensorFlow"
   ]
  },
  {
   "cell_type": "code",
   "execution_count": null,
   "id": "0ebfeca8-8bd4-4ed3-992c-fc111756cd40",
   "metadata": {},
   "outputs": [],
   "source": [
    "from tensorflow import keras\n",
    "from tensorflow.data import experimental\n",
    "from tensorflow.keras import layers\n",
    "from tensorflow.keras.models import Sequential\n",
    "from PIL import Image\n",
    "import matplotlib.pyplot as plt"
   ]
  },
  {
   "cell_type": "code",
   "execution_count": null,
   "id": "19bb362e-1a99-4f38-b1c4-52d8e73458d2",
   "metadata": {},
   "outputs": [],
   "source": [
    "LABELS = [\"Glass\",\"Metal\",\"Organic\",\"Paper\",\"Plastic\"]"
   ]
  },
  {
   "cell_type": "code",
   "execution_count": null,
   "id": "71112e2b-c7be-4a05-b10a-c40d65a314f3",
   "metadata": {},
   "outputs": [
    {
     "name": "stderr",
     "output_type": "stream",
     "text": [
      "2023-05-22 12:05:38.188765: I tensorflow/stream_executor/cuda/cuda_gpu_executor.cc:936] successful NUMA node read from SysFS had negative value (-1), but there must be at least one NUMA node, so returning NUMA node zero\n",
      "2023-05-22 12:05:38.202133: I tensorflow/stream_executor/cuda/cuda_gpu_executor.cc:936] successful NUMA node read from SysFS had negative value (-1), but there must be at least one NUMA node, so returning NUMA node zero\n",
      "2023-05-22 12:05:38.203836: I tensorflow/stream_executor/cuda/cuda_gpu_executor.cc:936] successful NUMA node read from SysFS had negative value (-1), but there must be at least one NUMA node, so returning NUMA node zero\n",
      "2023-05-22 12:05:38.206949: I tensorflow/core/platform/cpu_feature_guard.cc:151] This TensorFlow binary is optimized with oneAPI Deep Neural Network Library (oneDNN) to use the following CPU instructions in performance-critical operations:  AVX2 FMA\n",
      "To enable them in other operations, rebuild TensorFlow with the appropriate compiler flags.\n",
      "2023-05-22 12:05:38.207752: I tensorflow/stream_executor/cuda/cuda_gpu_executor.cc:936] successful NUMA node read from SysFS had negative value (-1), but there must be at least one NUMA node, so returning NUMA node zero\n",
      "2023-05-22 12:05:38.209569: I tensorflow/stream_executor/cuda/cuda_gpu_executor.cc:936] successful NUMA node read from SysFS had negative value (-1), but there must be at least one NUMA node, so returning NUMA node zero\n",
      "2023-05-22 12:05:38.211275: I tensorflow/stream_executor/cuda/cuda_gpu_executor.cc:936] successful NUMA node read from SysFS had negative value (-1), but there must be at least one NUMA node, so returning NUMA node zero\n",
      "2023-05-22 12:05:38.936210: I tensorflow/stream_executor/cuda/cuda_gpu_executor.cc:936] successful NUMA node read from SysFS had negative value (-1), but there must be at least one NUMA node, so returning NUMA node zero\n",
      "2023-05-22 12:05:38.938134: I tensorflow/stream_executor/cuda/cuda_gpu_executor.cc:936] successful NUMA node read from SysFS had negative value (-1), but there must be at least one NUMA node, so returning NUMA node zero\n",
      "2023-05-22 12:05:38.939725: I tensorflow/stream_executor/cuda/cuda_gpu_executor.cc:936] successful NUMA node read from SysFS had negative value (-1), but there must be at least one NUMA node, so returning NUMA node zero\n",
      "2023-05-22 12:05:38.941274: I tensorflow/core/common_runtime/gpu/gpu_device.cc:1525] Created device /job:localhost/replica:0/task:0/device:GPU:0 with 13598 MB memory:  -> device: 0, name: Tesla T4, pci bus id: 0000:00:04.0, compute capability: 7.5\n"
     ]
    }
   ],
   "source": [
    "dataset = tf.data.TextLineDataset(\"gs://qwiklabs-asl-02-71a732dc6bb9/ROSHN-ASL/DATASET/TRAIN/training_dataset.csv\").shuffle(20000)\n",
    "AUTOTUNE = tf.data.experimental.AUTOTUNE"
   ]
  },
  {
   "cell_type": "code",
   "execution_count": null,
   "id": "ada8ccdc-1905-41d0-a43f-147465ed696e",
   "metadata": {},
   "outputs": [
    {
     "name": "stdout",
     "output_type": "stream",
     "text": [
      "tf.Tensor(b'TRAIN,gs://qwiklabs-asl-02-71a732dc6bb9/ROSHN-ASL/DATASET/TRAIN/Organic/O_1998.jpg,Organic', shape=(), dtype=string)\n",
      "tf.Tensor(b'TRAIN,gs://qwiklabs-asl-02-71a732dc6bb9/ROSHN-ASL/DATASET/TRAIN/Organic/O_3016.jpg,Organic', shape=(), dtype=string)\n",
      "tf.Tensor(b'VALIDATION,gs://qwiklabs-asl-02-71a732dc6bb9/ROSHN-ASL/DATASET/TRAIN/Metal/R_2064.jpg,Metal', shape=(), dtype=string)\n",
      "tf.Tensor(b'TRAIN,gs://qwiklabs-asl-02-71a732dc6bb9/ROSHN-ASL/DATASET/TRAIN/Organic/O_11237.jpg,Organic', shape=(), dtype=string)\n",
      "tf.Tensor(b'VALIDATION,gs://qwiklabs-asl-02-71a732dc6bb9/ROSHN-ASL/DATASET/TRAIN/Organic/O_6510.jpg,Organic', shape=(), dtype=string)\n"
     ]
    }
   ],
   "source": [
    "for elem in dataset.take(5):\n",
    "    print(elem)"
   ]
  },
  {
   "cell_type": "code",
   "execution_count": null,
   "id": "a405c393-a0fa-4293-ab1b-367cea9e319b",
   "metadata": {},
   "outputs": [],
   "source": [
    "def parse_csv(data):\n",
    "    record_defaults = [\"split\", \"path\", \"label\"]\n",
    "    split, filename, label_string = tf.io.decode_csv(data, record_defaults)\n",
    "    image_bytes = tf.io.read_file(filename=filename)\n",
    "    label = tf.math.equal(LABELS, label_string)\n",
    "    return image_bytes,label"
   ]
  },
  {
   "cell_type": "code",
   "execution_count": null,
   "id": "4caed42c-e4ba-4b33-8e67-a2a2b6ce85ae",
   "metadata": {},
   "outputs": [],
   "source": [
    "def decode_image(img,reshape_dims):\n",
    "    img = tf.image.decode_jpeg(img,channels=3)\n",
    "    img = tf.image.convert_image_dtype(img,tf.float32)\n",
    "    return tf.image.resize(img,reshape_dims)"
   ]
  },
  {
   "cell_type": "code",
   "execution_count": null,
   "id": "ef5bc941-f8e4-469c-b566-2bd4f01b38fd",
   "metadata": {},
   "outputs": [],
   "source": [
    "def data_preprocess(image_bytes,label):\n",
    "    img = decode_image(image_bytes, [WIDTH, HEIGHT])\n",
    "    return img, label"
   ]
  },
  {
   "cell_type": "code",
   "execution_count": null,
   "id": "2d730711-3d2b-4655-9c47-376d7d1ac719",
   "metadata": {},
   "outputs": [],
   "source": [
    "def load_dataset(dataset,batch_size,training=True):\n",
    "    dataset = dataset.map(parse_csv).cache()\n",
    "    if training:\n",
    "        dataset = dataset.map(data_preprocess).repeat(count=None)\n",
    "    else:\n",
    "        dataset = dataset.map(data_preprocess).repeat(count=1)\n",
    "    return dataset.batch(batch_size=batch_size).prefetch(buffer_size=AUTOTUNE)"
   ]
  },
  {
   "cell_type": "code",
   "execution_count": null,
   "id": "741c1742-39fd-468f-a9e2-a135c493dabc",
   "metadata": {},
   "outputs": [],
   "source": [
    "#img resolution`\n",
    "WIDTH = 160\n",
    "HEIGHT = 160\n",
    "\n",
    "#MODEL HPARAMS\n",
    "NUM_FILTERS_1 = 256\n",
    "NUM_FILTERS_2 = 64\n",
    "KERNEL_SIZE = 3\n",
    "POOLING_SIZE = 2\n",
    "HIDDEN_LAYER_1 = 400\n",
    "HIDDEN_LAYER_2 = 100\n",
    "\n",
    "def train_model(dataset):\n",
    "    \n",
    "    train_data = load_dataset(dataset,batch_size=64)\n",
    "    valid_data = load_dataset(dataset,batch_size=32, training=False)\n",
    "    \n",
    "    model = Sequential(\n",
    "        [layers.Conv2D(NUM_FILTERS_1,kernel_size=KERNEL_SIZE,activation=\"relu\",input_shape=(WIDTH,HEIGHT,3)),\n",
    "        layers.MaxPooling2D(POOLING_SIZE),\n",
    "        layers.Conv2D(NUM_FILTERS_2,kernel_size=KERNEL_SIZE,activation=\"relu\"),\n",
    "        layers.MaxPooling2D(POOLING_SIZE),\n",
    "        layers.Flatten(),\n",
    "        layers.Dense(HIDDEN_LAYER_1,activation=\"relu\"),\n",
    "        layers.Dense(HIDDEN_LAYER_2,activation=\"relu\"),\n",
    "        layers.Dropout(0.3),\n",
    "        layers.Dense(5),\n",
    "        layers.Softmax()]\n",
    "    )\n",
    "    model.compile(optimizer=\"Adam\",loss=\"categorical_crossentropy\",metrics=[\"accuracy\"])\n",
    "    history = model.fit(\n",
    "        train_data,\n",
    "        validation_data = valid_data,\n",
    "        epochs = 50,\n",
    "        steps_per_epoch=200\n",
    "    )\n",
    "    model.save(\"gs://qwiklabs-asl-02-71a732dc6bb9/ROSHN-ASL/\",save_format='tf')\n",
    "    RMSE_COLS=[\"rmse\",\"val_rmse\"]\n",
    "    pd.DataFrame(history.history)[RMSE_COLS].plot()\n",
    "    \n",
    "    return model"
   ]
  },
  {
   "cell_type": "code",
   "execution_count": null,
   "id": "7513f626-49f1-491c-8895-8b7455c96cb9",
   "metadata": {},
   "outputs": [
    {
     "name": "stdout",
     "output_type": "stream",
     "text": [
      "Epoch 1/50\n"
     ]
    },
    {
     "name": "stderr",
     "output_type": "stream",
     "text": [
      "2023-05-22 12:05:42.653021: I tensorflow/stream_executor/cuda/cuda_dnn.cc:368] Loaded cuDNN version 8200\n"
     ]
    },
    {
     "name": "stdout",
     "output_type": "stream",
     "text": [
      "200/200 [==============================] - 654s 3s/step - loss: 1.1422 - accuracy: 0.5924 - val_loss: 0.9441 - val_accuracy: 0.6539\n",
      "Epoch 2/50\n",
      "200/200 [==============================] - 187s 941ms/step - loss: 0.9558 - accuracy: 0.6606 - val_loss: 1.0657 - val_accuracy: 0.6744\n",
      "Epoch 3/50\n",
      "200/200 [==============================] - 66s 330ms/step - loss: 0.9357 - accuracy: 0.6580 - val_loss: 0.9126 - val_accuracy: 0.6666\n",
      "Epoch 4/50\n",
      "200/200 [==============================] - 66s 332ms/step - loss: 0.8927 - accuracy: 0.6741 - val_loss: 0.8329 - val_accuracy: 0.6854\n",
      "Epoch 5/50\n",
      "200/200 [==============================] - 66s 331ms/step - loss: 0.8604 - accuracy: 0.6834 - val_loss: 0.7652 - val_accuracy: 0.7080\n",
      "Epoch 6/50\n",
      "200/200 [==============================] - 66s 331ms/step - loss: 0.7985 - accuracy: 0.7034 - val_loss: 0.7039 - val_accuracy: 0.7417\n",
      "Epoch 7/50\n",
      "200/200 [==============================] - 66s 331ms/step - loss: 0.7304 - accuracy: 0.7341 - val_loss: 0.6658 - val_accuracy: 0.7599\n",
      "Epoch 8/50\n",
      "200/200 [==============================] - 66s 330ms/step - loss: 0.6605 - accuracy: 0.7584 - val_loss: 0.6731 - val_accuracy: 0.7437\n",
      "Epoch 9/50\n",
      "200/200 [==============================] - 66s 330ms/step - loss: 0.5376 - accuracy: 0.8113 - val_loss: 0.4922 - val_accuracy: 0.8255\n",
      "Epoch 10/50\n",
      "200/200 [==============================] - 66s 330ms/step - loss: 0.5244 - accuracy: 0.8119 - val_loss: 0.3959 - val_accuracy: 0.8543\n",
      "Epoch 11/50\n",
      "200/200 [==============================] - 66s 330ms/step - loss: 0.3839 - accuracy: 0.8684 - val_loss: 0.4045 - val_accuracy: 0.8710\n",
      "Epoch 12/50\n",
      "200/200 [==============================] - 66s 330ms/step - loss: 0.3203 - accuracy: 0.8888 - val_loss: 0.4908 - val_accuracy: 0.8675\n",
      "Epoch 13/50\n",
      "200/200 [==============================] - 66s 329ms/step - loss: 0.2681 - accuracy: 0.9119 - val_loss: 0.1998 - val_accuracy: 0.9309\n",
      "Epoch 14/50\n",
      "200/200 [==============================] - 66s 329ms/step - loss: 0.2143 - accuracy: 0.9299 - val_loss: 0.2840 - val_accuracy: 0.9130\n",
      "Epoch 15/50\n",
      "200/200 [==============================] - 66s 329ms/step - loss: 0.1728 - accuracy: 0.9434 - val_loss: 0.1837 - val_accuracy: 0.9353\n",
      "Epoch 16/50\n",
      "170/200 [========================>.....] - ETA: 5s - loss: 0.1548 - accuracy: 0.9498"
     ]
    },
    {
     "name": "stderr",
     "output_type": "stream",
     "text": [
      "IOPub message rate exceeded.\n",
      "The Jupyter server will temporarily stop sending output\n",
      "to the client in order to avoid crashing it.\n",
      "To change this limit, set the config variable\n",
      "`--ServerApp.iopub_msg_rate_limit`.\n",
      "\n",
      "Current values:\n",
      "ServerApp.iopub_msg_rate_limit=1000.0 (msgs/sec)\n",
      "ServerApp.rate_limit_window=3.0 (secs)\n",
      "\n"
     ]
    },
    {
     "name": "stdout",
     "output_type": "stream",
     "text": [
      "200/200 [==============================] - 66s 330ms/step - loss: 0.1111 - accuracy: 0.9666 - val_loss: 0.1162 - val_accuracy: 0.9628\n",
      "Epoch 19/50\n",
      "200/200 [==============================] - 66s 329ms/step - loss: 0.0996 - accuracy: 0.9690 - val_loss: 0.1756 - val_accuracy: 0.9461\n",
      "Epoch 20/50\n",
      "200/200 [==============================] - 66s 330ms/step - loss: 0.0839 - accuracy: 0.9756 - val_loss: 0.1232 - val_accuracy: 0.9594\n",
      "Epoch 21/50\n",
      "200/200 [==============================] - 66s 329ms/step - loss: 0.0627 - accuracy: 0.9804 - val_loss: 0.1100 - val_accuracy: 0.9650\n",
      "Epoch 22/50\n",
      "200/200 [==============================] - 66s 329ms/step - loss: 0.0631 - accuracy: 0.9799 - val_loss: 0.1030 - val_accuracy: 0.9707\n",
      "Epoch 23/50\n",
      "200/200 [==============================] - 66s 330ms/step - loss: 0.0386 - accuracy: 0.9887 - val_loss: 0.1066 - val_accuracy: 0.9715\n",
      "Epoch 24/50\n",
      "200/200 [==============================] - 66s 329ms/step - loss: 0.0558 - accuracy: 0.9841 - val_loss: 0.1312 - val_accuracy: 0.9631\n",
      "Epoch 25/50\n",
      "200/200 [==============================] - 66s 330ms/step - loss: 0.0465 - accuracy: 0.9860 - val_loss: 0.1141 - val_accuracy: 0.9667\n",
      "Epoch 26/50\n",
      "200/200 [==============================] - 66s 330ms/step - loss: 0.0427 - accuracy: 0.9857 - val_loss: 0.0947 - val_accuracy: 0.9733\n",
      "Epoch 28/50\n",
      "200/200 [==============================] - 66s 329ms/step - loss: 0.0226 - accuracy: 0.9933 - val_loss: 0.0572 - val_accuracy: 0.9833\n",
      "Epoch 29/50\n",
      "200/200 [==============================] - 66s 330ms/step - loss: 0.0420 - accuracy: 0.9858 - val_loss: 0.0661 - val_accuracy: 0.9828\n",
      "Epoch 30/50\n",
      "200/200 [==============================] - 66s 329ms/step - loss: 0.0327 - accuracy: 0.9916 - val_loss: 0.0555 - val_accuracy: 0.9826\n",
      "Epoch 31/50\n",
      "200/200 [==============================] - 66s 332ms/step - loss: 0.0286 - accuracy: 0.9916 - val_loss: 0.0539 - val_accuracy: 0.9842\n",
      "Epoch 32/50\n",
      "200/200 [==============================] - 66s 329ms/step - loss: 0.0415 - accuracy: 0.9873 - val_loss: 0.0815 - val_accuracy: 0.9747\n",
      "Epoch 33/50\n",
      "200/200 [==============================] - 66s 329ms/step - loss: 0.0296 - accuracy: 0.9901 - val_loss: 0.0857 - val_accuracy: 0.9765\n",
      "Epoch 34/50\n",
      "200/200 [==============================] - 66s 328ms/step - loss: 0.0263 - accuracy: 0.9925 - val_loss: 0.0206 - val_accuracy: 0.9940\n",
      "Epoch 39/50\n",
      "200/200 [==============================] - 66s 328ms/step - loss: 0.0323 - accuracy: 0.9901 - val_loss: 0.0299 - val_accuracy: 0.9920\n",
      "Epoch 40/50\n",
      "200/200 [==============================] - 66s 328ms/step - loss: 0.0158 - accuracy: 0.9960 - val_loss: 0.0483 - val_accuracy: 0.9884\n",
      "Epoch 41/50\n",
      "200/200 [==============================] - 66s 329ms/step - loss: 0.0194 - accuracy: 0.9945 - val_loss: 0.0541 - val_accuracy: 0.9856\n",
      "Epoch 42/50\n",
      "200/200 [==============================] - 66s 329ms/step - loss: 0.0151 - accuracy: 0.9958 - val_loss: 0.0223 - val_accuracy: 0.9912\n",
      "Epoch 43/50\n",
      "200/200 [==============================] - 66s 329ms/step - loss: 0.0163 - accuracy: 0.9936 - val_loss: 0.0145 - val_accuracy: 0.9959\n",
      "Epoch 44/50\n",
      "200/200 [==============================] - 66s 328ms/step - loss: 0.0214 - accuracy: 0.9924 - val_loss: 0.0248 - val_accuracy: 0.9940\n",
      "Epoch 45/50\n",
      "200/200 [==============================] - 66s 329ms/step - loss: 0.0270 - accuracy: 0.9927 - val_loss: 0.0829 - val_accuracy: 0.9796\n",
      "Epoch 46/50\n",
      "200/200 [==============================] - 66s 328ms/step - loss: 0.0259 - accuracy: 0.9918 - val_loss: 0.0361 - val_accuracy: 0.9907\n",
      "Epoch 47/50\n",
      "200/200 [==============================] - 66s 329ms/step - loss: 0.0201 - accuracy: 0.9948 - val_loss: 0.0514 - val_accuracy: 0.9873\n",
      "Epoch 48/50\n",
      "200/200 [==============================] - 66s 330ms/step - loss: 0.0194 - accuracy: 0.9945 - val_loss: 0.0322 - val_accuracy: 0.9904\n",
      "Epoch 49/50\n",
      "200/200 [==============================] - 66s 330ms/step - loss: 0.0197 - accuracy: 0.9938 - val_loss: 0.0156 - val_accuracy: 0.9934\n",
      "Epoch 50/50\n",
      "200/200 [==============================] - 66s 331ms/step - loss: 0.0132 - accuracy: 0.9959 - val_loss: 0.0647 - val_accuracy: 0.9837\n"
     ]
    },
    {
     "name": "stderr",
     "output_type": "stream",
     "text": [
      "2023-05-22 13:12:19.386040: W tensorflow/python/util/util.cc:368] Sets are not currently considered sequences, but this may change in the future, so consider avoiding using them.\n"
     ]
    },
    {
     "name": "stdout",
     "output_type": "stream",
     "text": [
      "INFO:tensorflow:Assets written to: gs://qwiklabs-asl-02-71a732dc6bb9/ROSHN-ASL/assets\n"
     ]
    },
    {
     "ename": "KeyError",
     "evalue": "\"None of [Index(['rmse', 'val_rmse'], dtype='object')] are in the [columns]\"",
     "output_type": "error",
     "traceback": [
      "\u001b[0;31m---------------------------------------------------------------------------\u001b[0m",
      "\u001b[0;31mKeyError\u001b[0m                                  Traceback (most recent call last)",
      "\u001b[0;32m/var/tmp/ipykernel_18230/2084360494.py\u001b[0m in \u001b[0;36m<module>\u001b[0;34m\u001b[0m\n\u001b[0;32m----> 1\u001b[0;31m \u001b[0mtrain_model\u001b[0m\u001b[0;34m(\u001b[0m\u001b[0mdataset\u001b[0m\u001b[0;34m)\u001b[0m\u001b[0;34m\u001b[0m\u001b[0;34m\u001b[0m\u001b[0m\n\u001b[0m",
      "\u001b[0;32m/var/tmp/ipykernel_18230/2613462408.py\u001b[0m in \u001b[0;36mtrain_model\u001b[0;34m(dataset)\u001b[0m\n\u001b[1;32m     37\u001b[0m     \u001b[0mmodel\u001b[0m\u001b[0;34m.\u001b[0m\u001b[0msave\u001b[0m\u001b[0;34m(\u001b[0m\u001b[0;34m\"gs://qwiklabs-asl-02-71a732dc6bb9/ROSHN-ASL/\"\u001b[0m\u001b[0;34m,\u001b[0m\u001b[0msave_format\u001b[0m\u001b[0;34m=\u001b[0m\u001b[0;34m'tf'\u001b[0m\u001b[0;34m)\u001b[0m\u001b[0;34m\u001b[0m\u001b[0;34m\u001b[0m\u001b[0m\n\u001b[1;32m     38\u001b[0m     \u001b[0mRMSE_COLS\u001b[0m\u001b[0;34m=\u001b[0m\u001b[0;34m[\u001b[0m\u001b[0;34m\"rmse\"\u001b[0m\u001b[0;34m,\u001b[0m\u001b[0;34m\"val_rmse\"\u001b[0m\u001b[0;34m]\u001b[0m\u001b[0;34m\u001b[0m\u001b[0;34m\u001b[0m\u001b[0m\n\u001b[0;32m---> 39\u001b[0;31m     \u001b[0mpd\u001b[0m\u001b[0;34m.\u001b[0m\u001b[0mDataFrame\u001b[0m\u001b[0;34m(\u001b[0m\u001b[0mhistory\u001b[0m\u001b[0;34m.\u001b[0m\u001b[0mhistory\u001b[0m\u001b[0;34m)\u001b[0m\u001b[0;34m[\u001b[0m\u001b[0mRMSE_COLS\u001b[0m\u001b[0;34m]\u001b[0m\u001b[0;34m.\u001b[0m\u001b[0mplot\u001b[0m\u001b[0;34m(\u001b[0m\u001b[0;34m)\u001b[0m\u001b[0;34m\u001b[0m\u001b[0;34m\u001b[0m\u001b[0m\n\u001b[0m",
      "\u001b[0;32m/opt/conda/lib/python3.7/site-packages/pandas/core/frame.py\u001b[0m in \u001b[0;36m__getitem__\u001b[0;34m(self, key)\u001b[0m\n\u001b[1;32m   3462\u001b[0m             \u001b[0;32mif\u001b[0m \u001b[0mis_iterator\u001b[0m\u001b[0;34m(\u001b[0m\u001b[0mkey\u001b[0m\u001b[0;34m)\u001b[0m\u001b[0;34m:\u001b[0m\u001b[0;34m\u001b[0m\u001b[0;34m\u001b[0m\u001b[0m\n\u001b[1;32m   3463\u001b[0m                 \u001b[0mkey\u001b[0m \u001b[0;34m=\u001b[0m \u001b[0mlist\u001b[0m\u001b[0;34m(\u001b[0m\u001b[0mkey\u001b[0m\u001b[0;34m)\u001b[0m\u001b[0;34m\u001b[0m\u001b[0;34m\u001b[0m\u001b[0m\n\u001b[0;32m-> 3464\u001b[0;31m             \u001b[0mindexer\u001b[0m \u001b[0;34m=\u001b[0m \u001b[0mself\u001b[0m\u001b[0;34m.\u001b[0m\u001b[0mloc\u001b[0m\u001b[0;34m.\u001b[0m\u001b[0m_get_listlike_indexer\u001b[0m\u001b[0;34m(\u001b[0m\u001b[0mkey\u001b[0m\u001b[0;34m,\u001b[0m \u001b[0maxis\u001b[0m\u001b[0;34m=\u001b[0m\u001b[0;36m1\u001b[0m\u001b[0;34m)\u001b[0m\u001b[0;34m[\u001b[0m\u001b[0;36m1\u001b[0m\u001b[0;34m]\u001b[0m\u001b[0;34m\u001b[0m\u001b[0;34m\u001b[0m\u001b[0m\n\u001b[0m\u001b[1;32m   3465\u001b[0m \u001b[0;34m\u001b[0m\u001b[0m\n\u001b[1;32m   3466\u001b[0m         \u001b[0;31m# take() does not accept boolean indexers\u001b[0m\u001b[0;34m\u001b[0m\u001b[0;34m\u001b[0m\u001b[0;34m\u001b[0m\u001b[0m\n",
      "\u001b[0;32m/opt/conda/lib/python3.7/site-packages/pandas/core/indexing.py\u001b[0m in \u001b[0;36m_get_listlike_indexer\u001b[0;34m(self, key, axis)\u001b[0m\n\u001b[1;32m   1312\u001b[0m             \u001b[0mkeyarr\u001b[0m\u001b[0;34m,\u001b[0m \u001b[0mindexer\u001b[0m\u001b[0;34m,\u001b[0m \u001b[0mnew_indexer\u001b[0m \u001b[0;34m=\u001b[0m \u001b[0max\u001b[0m\u001b[0;34m.\u001b[0m\u001b[0m_reindex_non_unique\u001b[0m\u001b[0;34m(\u001b[0m\u001b[0mkeyarr\u001b[0m\u001b[0;34m)\u001b[0m\u001b[0;34m\u001b[0m\u001b[0;34m\u001b[0m\u001b[0m\n\u001b[1;32m   1313\u001b[0m \u001b[0;34m\u001b[0m\u001b[0m\n\u001b[0;32m-> 1314\u001b[0;31m         \u001b[0mself\u001b[0m\u001b[0;34m.\u001b[0m\u001b[0m_validate_read_indexer\u001b[0m\u001b[0;34m(\u001b[0m\u001b[0mkeyarr\u001b[0m\u001b[0;34m,\u001b[0m \u001b[0mindexer\u001b[0m\u001b[0;34m,\u001b[0m \u001b[0maxis\u001b[0m\u001b[0;34m)\u001b[0m\u001b[0;34m\u001b[0m\u001b[0;34m\u001b[0m\u001b[0m\n\u001b[0m\u001b[1;32m   1315\u001b[0m \u001b[0;34m\u001b[0m\u001b[0m\n\u001b[1;32m   1316\u001b[0m         if needs_i8_conversion(ax.dtype) or isinstance(\n",
      "\u001b[0;32m/opt/conda/lib/python3.7/site-packages/pandas/core/indexing.py\u001b[0m in \u001b[0;36m_validate_read_indexer\u001b[0;34m(self, key, indexer, axis)\u001b[0m\n\u001b[1;32m   1372\u001b[0m                 \u001b[0;32mif\u001b[0m \u001b[0muse_interval_msg\u001b[0m\u001b[0;34m:\u001b[0m\u001b[0;34m\u001b[0m\u001b[0;34m\u001b[0m\u001b[0m\n\u001b[1;32m   1373\u001b[0m                     \u001b[0mkey\u001b[0m \u001b[0;34m=\u001b[0m \u001b[0mlist\u001b[0m\u001b[0;34m(\u001b[0m\u001b[0mkey\u001b[0m\u001b[0;34m)\u001b[0m\u001b[0;34m\u001b[0m\u001b[0;34m\u001b[0m\u001b[0m\n\u001b[0;32m-> 1374\u001b[0;31m                 \u001b[0;32mraise\u001b[0m \u001b[0mKeyError\u001b[0m\u001b[0;34m(\u001b[0m\u001b[0;34mf\"None of [{key}] are in the [{axis_name}]\"\u001b[0m\u001b[0;34m)\u001b[0m\u001b[0;34m\u001b[0m\u001b[0;34m\u001b[0m\u001b[0m\n\u001b[0m\u001b[1;32m   1375\u001b[0m \u001b[0;34m\u001b[0m\u001b[0m\n\u001b[1;32m   1376\u001b[0m             \u001b[0mnot_found\u001b[0m \u001b[0;34m=\u001b[0m \u001b[0mlist\u001b[0m\u001b[0;34m(\u001b[0m\u001b[0mensure_index\u001b[0m\u001b[0;34m(\u001b[0m\u001b[0mkey\u001b[0m\u001b[0;34m)\u001b[0m\u001b[0;34m[\u001b[0m\u001b[0mmissing_mask\u001b[0m\u001b[0;34m.\u001b[0m\u001b[0mnonzero\u001b[0m\u001b[0;34m(\u001b[0m\u001b[0;34m)\u001b[0m\u001b[0;34m[\u001b[0m\u001b[0;36m0\u001b[0m\u001b[0;34m]\u001b[0m\u001b[0;34m]\u001b[0m\u001b[0;34m.\u001b[0m\u001b[0munique\u001b[0m\u001b[0;34m(\u001b[0m\u001b[0;34m)\u001b[0m\u001b[0;34m)\u001b[0m\u001b[0;34m\u001b[0m\u001b[0;34m\u001b[0m\u001b[0m\n",
      "\u001b[0;31mKeyError\u001b[0m: \"None of [Index(['rmse', 'val_rmse'], dtype='object')] are in the [columns]\""
     ]
    }
   ],
   "source": [
    "model = train_model(dataset)"
   ]
  },
  {
   "cell_type": "code",
   "execution_count": null,
   "id": "18cada4c-6107-47bb-ac9a-178afb71e9b7",
   "metadata": {},
   "outputs": [
    {
     "ename": "NameError",
     "evalue": "name 'model' is not defined",
     "output_type": "error",
     "traceback": [
      "\u001b[0;31m---------------------------------------------------------------------------\u001b[0m",
      "\u001b[0;31mNameError\u001b[0m                                 Traceback (most recent call last)",
      "\u001b[0;32m/var/tmp/ipykernel_18230/3311844284.py\u001b[0m in \u001b[0;36m<module>\u001b[0;34m\u001b[0m\n\u001b[0;32m----> 1\u001b[0;31m \u001b[0mconverter\u001b[0m \u001b[0;34m=\u001b[0m \u001b[0mtf\u001b[0m\u001b[0;34m.\u001b[0m\u001b[0mlite\u001b[0m\u001b[0;34m.\u001b[0m\u001b[0mTFLiteConverter\u001b[0m\u001b[0;34m.\u001b[0m\u001b[0mfrom_keras_model\u001b[0m\u001b[0;34m(\u001b[0m\u001b[0mmodel\u001b[0m\u001b[0;34m)\u001b[0m\u001b[0;34m\u001b[0m\u001b[0;34m\u001b[0m\u001b[0m\n\u001b[0m\u001b[1;32m      2\u001b[0m \u001b[0mtflite_model\u001b[0m \u001b[0;34m=\u001b[0m \u001b[0mconverter\u001b[0m\u001b[0;34m.\u001b[0m\u001b[0mconvert\u001b[0m\u001b[0;34m(\u001b[0m\u001b[0;34m)\u001b[0m\u001b[0;34m\u001b[0m\u001b[0;34m\u001b[0m\u001b[0m\n\u001b[1;32m      3\u001b[0m \u001b[0;34m\u001b[0m\u001b[0m\n\u001b[1;32m      4\u001b[0m \u001b[0;32mwith\u001b[0m \u001b[0mopen\u001b[0m\u001b[0;34m(\u001b[0m\u001b[0;34m\"model.tflite\"\u001b[0m\u001b[0;34m,\u001b[0m \u001b[0;34m'wb'\u001b[0m\u001b[0;34m)\u001b[0m \u001b[0;32mas\u001b[0m \u001b[0mf\u001b[0m\u001b[0;34m:\u001b[0m\u001b[0;34m\u001b[0m\u001b[0;34m\u001b[0m\u001b[0m\n\u001b[1;32m      5\u001b[0m   \u001b[0mf\u001b[0m\u001b[0;34m.\u001b[0m\u001b[0mwrite\u001b[0m\u001b[0;34m(\u001b[0m\u001b[0mtflite_model\u001b[0m\u001b[0;34m)\u001b[0m\u001b[0;34m\u001b[0m\u001b[0;34m\u001b[0m\u001b[0m\n",
      "\u001b[0;31mNameError\u001b[0m: name 'model' is not defined"
     ]
    }
   ],
   "source": [
    "converter = tf.lite.TFLiteConverter.from_keras_model(model)\n",
    "tflite_model = converter.convert()\n",
    "\n",
    "with open(\"model.tflite\", 'wb') as f:\n",
    "  f.write(tflite_model)"
   ]
  },
  {
   "cell_type": "markdown",
   "id": "02167147-6fc5-40af-afc1-b65213ad6baa",
   "metadata": {
    "tags": []
   },
   "source": [
    "# Pipeline Ml Ops"
   ]
  },
  {
   "cell_type": "code",
   "execution_count": null,
   "id": "18f19990-221a-498d-a370-5946574ad297",
   "metadata": {},
   "outputs": [
    {
     "name": "stdout",
     "output_type": "stream",
     "text": [
      "Collecting google-cloud-aiplatform==1.7.0\n",
      "  Using cached google_cloud_aiplatform-1.7.0-py2.py3-none-any.whl (1.6 MB)\n",
      "Requirement already satisfied: google-api-core[grpc]<3.0.0dev,>=1.26.0 in /opt/conda/lib/python3.7/site-packages (from google-cloud-aiplatform==1.7.0) (1.34.0)\n",
      "Requirement already satisfied: proto-plus>=1.10.1 in /opt/conda/lib/python3.7/site-packages (from google-cloud-aiplatform==1.7.0) (1.22.2)\n",
      "Requirement already satisfied: packaging>=14.3 in /home/jupyter/.local/lib/python3.7/site-packages (from google-cloud-aiplatform==1.7.0) (21.3)\n",
      "Collecting google-cloud-storage<2.0.0dev,>=1.32.0 (from google-cloud-aiplatform==1.7.0)\n",
      "  Using cached google_cloud_storage-1.44.0-py2.py3-none-any.whl (106 kB)\n",
      "Requirement already satisfied: google-cloud-bigquery<3.0.0dev,>=1.15.0 in /home/jupyter/.local/lib/python3.7/site-packages (from google-cloud-aiplatform==1.7.0) (2.34.4)\n",
      "Requirement already satisfied: googleapis-common-protos<2.0dev,>=1.56.2 in /opt/conda/lib/python3.7/site-packages (from google-api-core[grpc]<3.0.0dev,>=1.26.0->google-cloud-aiplatform==1.7.0) (1.56.4)\n",
      "Requirement already satisfied: protobuf!=3.20.0,!=3.20.1,!=4.21.0,!=4.21.1,!=4.21.2,!=4.21.3,!=4.21.4,!=4.21.5,<4.0.0dev,>=3.19.5 in /opt/conda/lib/python3.7/site-packages (from google-api-core[grpc]<3.0.0dev,>=1.26.0->google-cloud-aiplatform==1.7.0) (3.19.6)\n",
      "Requirement already satisfied: google-auth<3.0dev,>=1.25.0 in /home/jupyter/.local/lib/python3.7/site-packages (from google-api-core[grpc]<3.0.0dev,>=1.26.0->google-cloud-aiplatform==1.7.0) (1.35.0)\n",
      "Requirement already satisfied: requests<3.0.0dev,>=2.18.0 in /opt/conda/lib/python3.7/site-packages (from google-api-core[grpc]<3.0.0dev,>=1.26.0->google-cloud-aiplatform==1.7.0) (2.28.2)\n",
      "Requirement already satisfied: grpcio<2.0dev,>=1.33.2 in /opt/conda/lib/python3.7/site-packages (from google-api-core[grpc]<3.0.0dev,>=1.26.0->google-cloud-aiplatform==1.7.0) (1.48.1)\n",
      "Requirement already satisfied: grpcio-status<2.0dev,>=1.33.2 in /home/jupyter/.local/lib/python3.7/site-packages (from google-api-core[grpc]<3.0.0dev,>=1.26.0->google-cloud-aiplatform==1.7.0) (1.47.0)\n",
      "Requirement already satisfied: google-cloud-core<3.0.0dev,>=1.4.1 in /opt/conda/lib/python3.7/site-packages (from google-cloud-bigquery<3.0.0dev,>=1.15.0->google-cloud-aiplatform==1.7.0) (2.3.2)\n",
      "Requirement already satisfied: google-resumable-media<3.0dev,>=0.6.0 in /opt/conda/lib/python3.7/site-packages (from google-cloud-bigquery<3.0.0dev,>=1.15.0->google-cloud-aiplatform==1.7.0) (2.5.0)\n",
      "Requirement already satisfied: python-dateutil<3.0dev,>=2.7.2 in /opt/conda/lib/python3.7/site-packages (from google-cloud-bigquery<3.0.0dev,>=1.15.0->google-cloud-aiplatform==1.7.0) (2.8.2)\n",
      "Requirement already satisfied: six in /opt/conda/lib/python3.7/site-packages (from google-cloud-storage<2.0.0dev,>=1.32.0->google-cloud-aiplatform==1.7.0) (1.16.0)\n",
      "Requirement already satisfied: pyparsing!=3.0.5,>=2.0.2 in /opt/conda/lib/python3.7/site-packages (from packaging>=14.3->google-cloud-aiplatform==1.7.0) (3.0.9)\n",
      "Requirement already satisfied: cachetools<5.0,>=2.0.0 in /opt/conda/lib/python3.7/site-packages (from google-auth<3.0dev,>=1.25.0->google-api-core[grpc]<3.0.0dev,>=1.26.0->google-cloud-aiplatform==1.7.0) (4.2.4)\n",
      "Requirement already satisfied: pyasn1-modules>=0.2.1 in /opt/conda/lib/python3.7/site-packages (from google-auth<3.0dev,>=1.25.0->google-api-core[grpc]<3.0.0dev,>=1.26.0->google-cloud-aiplatform==1.7.0) (0.2.7)\n",
      "Requirement already satisfied: setuptools>=40.3.0 in /opt/conda/lib/python3.7/site-packages (from google-auth<3.0dev,>=1.25.0->google-api-core[grpc]<3.0.0dev,>=1.26.0->google-cloud-aiplatform==1.7.0) (67.7.2)\n",
      "Requirement already satisfied: rsa<5,>=3.1.4 in /opt/conda/lib/python3.7/site-packages (from google-auth<3.0dev,>=1.25.0->google-api-core[grpc]<3.0.0dev,>=1.26.0->google-cloud-aiplatform==1.7.0) (4.9)\n",
      "Requirement already satisfied: google-crc32c<2.0dev,>=1.0 in /opt/conda/lib/python3.7/site-packages (from google-resumable-media<3.0dev,>=0.6.0->google-cloud-bigquery<3.0.0dev,>=1.15.0->google-cloud-aiplatform==1.7.0) (1.5.0)\n",
      "Requirement already satisfied: charset-normalizer<4,>=2 in /opt/conda/lib/python3.7/site-packages (from requests<3.0.0dev,>=2.18.0->google-api-core[grpc]<3.0.0dev,>=1.26.0->google-cloud-aiplatform==1.7.0) (2.1.1)\n",
      "Requirement already satisfied: idna<4,>=2.5 in /opt/conda/lib/python3.7/site-packages (from requests<3.0.0dev,>=2.18.0->google-api-core[grpc]<3.0.0dev,>=1.26.0->google-cloud-aiplatform==1.7.0) (3.4)\n",
      "Requirement already satisfied: urllib3<1.27,>=1.21.1 in /opt/conda/lib/python3.7/site-packages (from requests<3.0.0dev,>=2.18.0->google-api-core[grpc]<3.0.0dev,>=1.26.0->google-cloud-aiplatform==1.7.0) (1.26.15)\n",
      "Requirement already satisfied: certifi>=2017.4.17 in /opt/conda/lib/python3.7/site-packages (from requests<3.0.0dev,>=2.18.0->google-api-core[grpc]<3.0.0dev,>=1.26.0->google-cloud-aiplatform==1.7.0) (2022.12.7)\n",
      "Requirement already satisfied: pyasn1<0.5.0,>=0.4.6 in /opt/conda/lib/python3.7/site-packages (from pyasn1-modules>=0.2.1->google-auth<3.0dev,>=1.25.0->google-api-core[grpc]<3.0.0dev,>=1.26.0->google-cloud-aiplatform==1.7.0) (0.4.8)\n",
      "Installing collected packages: google-cloud-storage, google-cloud-aiplatform\n",
      "  Attempting uninstall: google-cloud-storage\n",
      "    Found existing installation: google-cloud-storage 2.9.0\n",
      "    Uninstalling google-cloud-storage-2.9.0:\n",
      "      Successfully uninstalled google-cloud-storage-2.9.0\n",
      "  Attempting uninstall: google-cloud-aiplatform\n",
      "    Found existing installation: google-cloud-aiplatform 1.25.0\n",
      "    Uninstalling google-cloud-aiplatform-1.25.0:\n",
      "      Successfully uninstalled google-cloud-aiplatform-1.25.0\n",
      "\u001b[33m  WARNING: The script tb-gcp-uploader is installed in '/home/jupyter/.local/bin' which is not on PATH.\n",
      "  Consider adding this directory to PATH or, if you prefer to suppress this warning, use --no-warn-script-location.\u001b[0m\u001b[33m\n",
      "\u001b[0m\u001b[31mERROR: pip's dependency resolver does not currently take into account all the packages that are installed. This behaviour is the source of the following dependency conflicts.\n",
      "google-cloud-pipeline-components 1.0.43 requires google-cloud-aiplatform<2,>=1.14.0, but you have google-cloud-aiplatform 1.7.0 which is incompatible.\n",
      "google-cloud-pipeline-components 1.0.43 requires google-cloud-storage<3,>=2.2.1, but you have google-cloud-storage 1.44.0 which is incompatible.\u001b[0m\u001b[31m\n",
      "\u001b[0mSuccessfully installed google-cloud-aiplatform-1.7.0 google-cloud-storage-1.44.0\n",
      "Collecting kfp==1.8.9\n",
      "  Using cached kfp-1.8.9-py3-none-any.whl\n",
      "Collecting google-cloud-pipeline-components==0.2.0\n",
      "  Using cached google_cloud_pipeline_components-0.2.0-py3-none-any.whl (135 kB)\n",
      "Requirement already satisfied: absl-py<=0.11,>=0.9 in /home/jupyter/.local/lib/python3.7/site-packages (from kfp==1.8.9) (0.11.0)\n",
      "Requirement already satisfied: PyYAML<6,>=5.3 in /home/jupyter/.local/lib/python3.7/site-packages (from kfp==1.8.9) (5.4.1)\n",
      "Requirement already satisfied: google-cloud-storage<2,>=1.20.0 in /home/jupyter/.local/lib/python3.7/site-packages (from kfp==1.8.9) (1.44.0)\n",
      "Requirement already satisfied: kubernetes<19,>=8.0.0 in /home/jupyter/.local/lib/python3.7/site-packages (from kfp==1.8.9) (18.20.0)\n",
      "Requirement already satisfied: google-api-python-client<2,>=1.7.8 in /opt/conda/lib/python3.7/site-packages (from kfp==1.8.9) (1.8.0)\n",
      "Requirement already satisfied: google-auth<2,>=1.6.1 in /home/jupyter/.local/lib/python3.7/site-packages (from kfp==1.8.9) (1.35.0)\n",
      "Requirement already satisfied: requests-toolbelt<1,>=0.8.0 in /home/jupyter/.local/lib/python3.7/site-packages (from kfp==1.8.9) (0.10.1)\n",
      "Requirement already satisfied: cloudpickle<3,>=2.0.0 in /opt/conda/lib/python3.7/site-packages (from kfp==1.8.9) (2.2.1)\n",
      "Requirement already satisfied: kfp-server-api<2.0.0,>=1.1.2 in /home/jupyter/.local/lib/python3.7/site-packages (from kfp==1.8.9) (1.8.5)\n",
      "Requirement already satisfied: jsonschema<4,>=3.0.1 in /home/jupyter/.local/lib/python3.7/site-packages (from kfp==1.8.9) (3.2.0)\n",
      "Requirement already satisfied: tabulate<1,>=0.8.6 in /opt/conda/lib/python3.7/site-packages (from kfp==1.8.9) (0.9.0)\n",
      "Requirement already satisfied: click<9,>=7.1.2 in /opt/conda/lib/python3.7/site-packages (from kfp==1.8.9) (8.1.3)\n",
      "Requirement already satisfied: Deprecated<2,>=1.2.7 in /opt/conda/lib/python3.7/site-packages (from kfp==1.8.9) (1.2.13)\n",
      "Requirement already satisfied: strip-hints<1,>=0.1.8 in /home/jupyter/.local/lib/python3.7/site-packages (from kfp==1.8.9) (0.1.10)\n",
      "Requirement already satisfied: docstring-parser<1,>=0.7.3 in /home/jupyter/.local/lib/python3.7/site-packages (from kfp==1.8.9) (0.15)\n",
      "Requirement already satisfied: kfp-pipeline-spec<0.2.0,>=0.1.13 in /home/jupyter/.local/lib/python3.7/site-packages (from kfp==1.8.9) (0.1.16)\n",
      "Requirement already satisfied: fire<1,>=0.3.1 in /home/jupyter/.local/lib/python3.7/site-packages (from kfp==1.8.9) (0.5.0)\n",
      "Requirement already satisfied: protobuf<4,>=3.13.0 in /opt/conda/lib/python3.7/site-packages (from kfp==1.8.9) (3.19.6)\n",
      "Requirement already satisfied: uritemplate<4,>=3.0.1 in /opt/conda/lib/python3.7/site-packages (from kfp==1.8.9) (3.0.1)\n",
      "Requirement already satisfied: pydantic<2,>=1.8.2 in /home/jupyter/.local/lib/python3.7/site-packages (from kfp==1.8.9) (1.9.2)\n",
      "Requirement already satisfied: typer<1.0,>=0.3.2 in /opt/conda/lib/python3.7/site-packages (from kfp==1.8.9) (0.7.0)\n",
      "Requirement already satisfied: typing-extensions<4,>=3.7.4 in /home/jupyter/.local/lib/python3.7/site-packages (from kfp==1.8.9) (3.10.0.2)\n",
      "Requirement already satisfied: google-api-core<2dev,>=1.26.0 in /opt/conda/lib/python3.7/site-packages (from google-cloud-pipeline-components==0.2.0) (1.34.0)\n",
      "Requirement already satisfied: google-cloud-aiplatform>=1.4.3 in /home/jupyter/.local/lib/python3.7/site-packages (from google-cloud-pipeline-components==0.2.0) (1.7.0)\n",
      "Requirement already satisfied: google-cloud-notebooks>=0.4.0 in /home/jupyter/.local/lib/python3.7/site-packages (from google-cloud-pipeline-components==0.2.0) (1.7.0)\n",
      "Requirement already satisfied: six in /opt/conda/lib/python3.7/site-packages (from absl-py<=0.11,>=0.9->kfp==1.8.9) (1.16.0)\n",
      "Requirement already satisfied: importlib-metadata in /opt/conda/lib/python3.7/site-packages (from click<9,>=7.1.2->kfp==1.8.9) (4.11.4)\n",
      "Requirement already satisfied: wrapt<2,>=1.10 in /opt/conda/lib/python3.7/site-packages (from Deprecated<2,>=1.2.7->kfp==1.8.9) (1.15.0)\n",
      "Requirement already satisfied: termcolor in /opt/conda/lib/python3.7/site-packages (from fire<1,>=0.3.1->kfp==1.8.9) (2.3.0)\n",
      "Requirement already satisfied: googleapis-common-protos<2.0dev,>=1.56.2 in /opt/conda/lib/python3.7/site-packages (from google-api-core<2dev,>=1.26.0->google-cloud-pipeline-components==0.2.0) (1.56.4)\n",
      "Requirement already satisfied: requests<3.0.0dev,>=2.18.0 in /opt/conda/lib/python3.7/site-packages (from google-api-core<2dev,>=1.26.0->google-cloud-pipeline-components==0.2.0) (2.28.2)\n",
      "Requirement already satisfied: httplib2<1dev,>=0.9.2 in /opt/conda/lib/python3.7/site-packages (from google-api-python-client<2,>=1.7.8->kfp==1.8.9) (0.21.0)\n",
      "Requirement already satisfied: google-auth-httplib2>=0.0.3 in /opt/conda/lib/python3.7/site-packages (from google-api-python-client<2,>=1.7.8->kfp==1.8.9) (0.1.0)\n",
      "Requirement already satisfied: cachetools<5.0,>=2.0.0 in /opt/conda/lib/python3.7/site-packages (from google-auth<2,>=1.6.1->kfp==1.8.9) (4.2.4)\n",
      "Requirement already satisfied: pyasn1-modules>=0.2.1 in /opt/conda/lib/python3.7/site-packages (from google-auth<2,>=1.6.1->kfp==1.8.9) (0.2.7)\n",
      "Requirement already satisfied: setuptools>=40.3.0 in /opt/conda/lib/python3.7/site-packages (from google-auth<2,>=1.6.1->kfp==1.8.9) (67.7.2)\n",
      "Requirement already satisfied: rsa<5,>=3.1.4 in /opt/conda/lib/python3.7/site-packages (from google-auth<2,>=1.6.1->kfp==1.8.9) (4.9)\n",
      "Requirement already satisfied: proto-plus>=1.10.1 in /opt/conda/lib/python3.7/site-packages (from google-cloud-aiplatform>=1.4.3->google-cloud-pipeline-components==0.2.0) (1.22.2)\n",
      "Requirement already satisfied: packaging>=14.3 in /home/jupyter/.local/lib/python3.7/site-packages (from google-cloud-aiplatform>=1.4.3->google-cloud-pipeline-components==0.2.0) (21.3)\n",
      "Requirement already satisfied: google-cloud-bigquery<3.0.0dev,>=1.15.0 in /home/jupyter/.local/lib/python3.7/site-packages (from google-cloud-aiplatform>=1.4.3->google-cloud-pipeline-components==0.2.0) (2.34.4)\n",
      "Requirement already satisfied: grpc-google-iam-v1<1.0.0dev,>=0.12.4 in /opt/conda/lib/python3.7/site-packages (from google-cloud-notebooks>=0.4.0->google-cloud-pipeline-components==0.2.0) (0.12.6)\n",
      "Requirement already satisfied: google-cloud-core<3.0dev,>=1.6.0 in /opt/conda/lib/python3.7/site-packages (from google-cloud-storage<2,>=1.20.0->kfp==1.8.9) (2.3.2)\n",
      "Requirement already satisfied: google-resumable-media<3.0dev,>=1.3.0 in /opt/conda/lib/python3.7/site-packages (from google-cloud-storage<2,>=1.20.0->kfp==1.8.9) (2.5.0)\n",
      "Requirement already satisfied: attrs>=17.4.0 in /opt/conda/lib/python3.7/site-packages (from jsonschema<4,>=3.0.1->kfp==1.8.9) (22.2.0)\n",
      "Requirement already satisfied: pyrsistent>=0.14.0 in /opt/conda/lib/python3.7/site-packages (from jsonschema<4,>=3.0.1->kfp==1.8.9) (0.18.1)\n",
      "Requirement already satisfied: urllib3>=1.15 in /opt/conda/lib/python3.7/site-packages (from kfp-server-api<2.0.0,>=1.1.2->kfp==1.8.9) (1.26.15)\n",
      "Requirement already satisfied: certifi in /opt/conda/lib/python3.7/site-packages (from kfp-server-api<2.0.0,>=1.1.2->kfp==1.8.9) (2022.12.7)\n",
      "Requirement already satisfied: python-dateutil in /opt/conda/lib/python3.7/site-packages (from kfp-server-api<2.0.0,>=1.1.2->kfp==1.8.9) (2.8.2)\n",
      "Requirement already satisfied: websocket-client!=0.40.0,!=0.41.*,!=0.42.*,>=0.32.0 in /opt/conda/lib/python3.7/site-packages (from kubernetes<19,>=8.0.0->kfp==1.8.9) (1.5.1)\n",
      "Requirement already satisfied: requests-oauthlib in /opt/conda/lib/python3.7/site-packages (from kubernetes<19,>=8.0.0->kfp==1.8.9) (1.3.1)\n",
      "Requirement already satisfied: wheel in /opt/conda/lib/python3.7/site-packages (from strip-hints<1,>=0.1.8->kfp==1.8.9) (0.40.0)\n",
      "Requirement already satisfied: grpcio<2.0dev,>=1.33.2 in /opt/conda/lib/python3.7/site-packages (from google-api-core<2dev,>=1.26.0->google-cloud-pipeline-components==0.2.0) (1.48.1)\n",
      "Requirement already satisfied: grpcio-status<2.0dev,>=1.33.2 in /home/jupyter/.local/lib/python3.7/site-packages (from google-api-core<2dev,>=1.26.0->google-cloud-pipeline-components==0.2.0) (1.47.0)\n",
      "Requirement already satisfied: google-crc32c<2.0dev,>=1.0 in /opt/conda/lib/python3.7/site-packages (from google-resumable-media<3.0dev,>=1.3.0->google-cloud-storage<2,>=1.20.0->kfp==1.8.9) (1.5.0)\n",
      "Requirement already satisfied: pyparsing!=3.0.0,!=3.0.1,!=3.0.2,!=3.0.3,<4,>=2.4.2 in /opt/conda/lib/python3.7/site-packages (from httplib2<1dev,>=0.9.2->google-api-python-client<2,>=1.7.8->kfp==1.8.9) (3.0.9)\n",
      "Requirement already satisfied: pyasn1<0.5.0,>=0.4.6 in /opt/conda/lib/python3.7/site-packages (from pyasn1-modules>=0.2.1->google-auth<2,>=1.6.1->kfp==1.8.9) (0.4.8)\n",
      "Requirement already satisfied: charset-normalizer<4,>=2 in /opt/conda/lib/python3.7/site-packages (from requests<3.0.0dev,>=2.18.0->google-api-core<2dev,>=1.26.0->google-cloud-pipeline-components==0.2.0) (2.1.1)\n",
      "Requirement already satisfied: idna<4,>=2.5 in /opt/conda/lib/python3.7/site-packages (from requests<3.0.0dev,>=2.18.0->google-api-core<2dev,>=1.26.0->google-cloud-pipeline-components==0.2.0) (3.4)\n",
      "Requirement already satisfied: zipp>=0.5 in /opt/conda/lib/python3.7/site-packages (from importlib-metadata->click<9,>=7.1.2->kfp==1.8.9) (3.15.0)\n",
      "Requirement already satisfied: oauthlib>=3.0.0 in /opt/conda/lib/python3.7/site-packages (from requests-oauthlib->kubernetes<19,>=8.0.0->kfp==1.8.9) (3.2.2)\n",
      "Installing collected packages: kfp, google-cloud-pipeline-components\n",
      "  Attempting uninstall: kfp\n",
      "    Found existing installation: kfp 1.8.22\n",
      "    Uninstalling kfp-1.8.22:\n",
      "      Successfully uninstalled kfp-1.8.22\n",
      "\u001b[33m  WARNING: The scripts dsl-compile, dsl-compile-v2 and kfp are installed in '/home/jupyter/.local/bin' which is not on PATH.\n",
      "  Consider adding this directory to PATH or, if you prefer to suppress this warning, use --no-warn-script-location.\u001b[0m\u001b[33m\n",
      "\u001b[0m  Attempting uninstall: google-cloud-pipeline-components\n",
      "    Found existing installation: google-cloud-pipeline-components 1.0.43\n",
      "    Uninstalling google-cloud-pipeline-components-1.0.43:\n",
      "      Successfully uninstalled google-cloud-pipeline-components-1.0.43\n",
      "Successfully installed google-cloud-pipeline-components-0.2.0 kfp-1.8.9\n"
     ]
    }
   ],
   "source": [
    "USER_FLAG= \"--user\"\n",
    "!pip3 install {USER_FLAG} google-cloud-aiplatform==1.7.0 --upgrade\n",
    "!pip3 install {USER_FLAG} kfp==1.8.9 google-cloud-pipeline-components==0.2.0"
   ]
  },
  {
   "cell_type": "code",
   "execution_count": null,
   "id": "148904b7-f3c2-42ca-a66c-dd0d5bef9a3b",
   "metadata": {},
   "outputs": [
    {
     "name": "stdout",
     "output_type": "stream",
     "text": [
      "Requirement already satisfied: google-cloud-pipeline-components in /home/jupyter/.local/lib/python3.7/site-packages (0.2.0)\n",
      "Collecting google-cloud-pipeline-components\n",
      "  Using cached google_cloud_pipeline_components-1.0.43-py3-none-any.whl (1.0 MB)\n",
      "Requirement already satisfied: googleapis-common-protos<2.0dev,>=1.56.2 in /opt/conda/lib/python3.7/site-packages (from google-cloud-pipeline-components) (1.56.4)\n",
      "Requirement already satisfied: google-api-core!=2.0.*,!=2.1.*,!=2.2.*,!=2.3.*,!=2.4.*,!=2.5.*,!=2.6.*,!=2.7.*,<3.0.0dev,>=1.31.5 in /opt/conda/lib/python3.7/site-packages (from google-cloud-pipeline-components) (1.34.0)\n",
      "Requirement already satisfied: protobuf<4.0.0dev,>=3.19.0 in /opt/conda/lib/python3.7/site-packages (from google-cloud-pipeline-components) (3.19.6)\n",
      "Requirement already satisfied: grpcio-status<=1.47.0 in /home/jupyter/.local/lib/python3.7/site-packages (from google-cloud-pipeline-components) (1.47.0)\n",
      "Collecting google-cloud-storage<3,>=2.2.1 (from google-cloud-pipeline-components)\n",
      "  Using cached google_cloud_storage-2.9.0-py2.py3-none-any.whl (113 kB)\n",
      "Requirement already satisfied: kfp<2.0.0,>=1.8.9 in /home/jupyter/.local/lib/python3.7/site-packages (from google-cloud-pipeline-components) (1.8.9)\n",
      "Requirement already satisfied: google-cloud-notebooks>=0.4.0 in /home/jupyter/.local/lib/python3.7/site-packages (from google-cloud-pipeline-components) (1.7.0)\n",
      "Collecting google-cloud-aiplatform<2,>=1.14.0 (from google-cloud-pipeline-components)\n",
      "  Using cached google_cloud_aiplatform-1.25.0-py2.py3-none-any.whl (2.6 MB)\n",
      "Requirement already satisfied: google-auth<3.0dev,>=1.25.0 in /home/jupyter/.local/lib/python3.7/site-packages (from google-api-core!=2.0.*,!=2.1.*,!=2.2.*,!=2.3.*,!=2.4.*,!=2.5.*,!=2.6.*,!=2.7.*,<3.0.0dev,>=1.31.5->google-cloud-pipeline-components) (1.35.0)\n",
      "Requirement already satisfied: requests<3.0.0dev,>=2.18.0 in /opt/conda/lib/python3.7/site-packages (from google-api-core!=2.0.*,!=2.1.*,!=2.2.*,!=2.3.*,!=2.4.*,!=2.5.*,!=2.6.*,!=2.7.*,<3.0.0dev,>=1.31.5->google-cloud-pipeline-components) (2.28.2)\n",
      "Requirement already satisfied: proto-plus<2.0.0dev,>=1.22.0 in /opt/conda/lib/python3.7/site-packages (from google-cloud-aiplatform<2,>=1.14.0->google-cloud-pipeline-components) (1.22.2)\n",
      "Requirement already satisfied: packaging>=14.3 in /home/jupyter/.local/lib/python3.7/site-packages (from google-cloud-aiplatform<2,>=1.14.0->google-cloud-pipeline-components) (21.3)\n",
      "Requirement already satisfied: google-cloud-bigquery<4.0.0dev,>=1.15.0 in /home/jupyter/.local/lib/python3.7/site-packages (from google-cloud-aiplatform<2,>=1.14.0->google-cloud-pipeline-components) (2.34.4)\n",
      "Requirement already satisfied: google-cloud-resource-manager<3.0.0dev,>=1.3.3 in /opt/conda/lib/python3.7/site-packages (from google-cloud-aiplatform<2,>=1.14.0->google-cloud-pipeline-components) (1.10.0)\n",
      "Requirement already satisfied: shapely<2.0.0 in /opt/conda/lib/python3.7/site-packages (from google-cloud-aiplatform<2,>=1.14.0->google-cloud-pipeline-components) (1.8.5.post1)\n",
      "Requirement already satisfied: grpc-google-iam-v1<1.0.0dev,>=0.12.4 in /opt/conda/lib/python3.7/site-packages (from google-cloud-notebooks>=0.4.0->google-cloud-pipeline-components) (0.12.6)\n",
      "Requirement already satisfied: google-cloud-core<3.0dev,>=2.3.0 in /opt/conda/lib/python3.7/site-packages (from google-cloud-storage<3,>=2.2.1->google-cloud-pipeline-components) (2.3.2)\n",
      "Requirement already satisfied: google-resumable-media>=2.3.2 in /opt/conda/lib/python3.7/site-packages (from google-cloud-storage<3,>=2.2.1->google-cloud-pipeline-components) (2.5.0)\n",
      "Requirement already satisfied: grpcio>=1.47.0 in /opt/conda/lib/python3.7/site-packages (from grpcio-status<=1.47.0->google-cloud-pipeline-components) (1.48.1)\n",
      "Requirement already satisfied: absl-py<=0.11,>=0.9 in /home/jupyter/.local/lib/python3.7/site-packages (from kfp<2.0.0,>=1.8.9->google-cloud-pipeline-components) (0.11.0)\n",
      "Requirement already satisfied: PyYAML<6,>=5.3 in /home/jupyter/.local/lib/python3.7/site-packages (from kfp<2.0.0,>=1.8.9->google-cloud-pipeline-components) (5.4.1)\n",
      "INFO: pip is looking at multiple versions of kfp to determine which version is compatible with other requirements. This could take a while.\n",
      "Collecting kfp<2.0.0,>=1.8.9 (from google-cloud-pipeline-components)\n",
      "  Using cached kfp-1.8.22-py3-none-any.whl\n",
      "Requirement already satisfied: kubernetes<26,>=8.0.0 in /home/jupyter/.local/lib/python3.7/site-packages (from kfp<2.0.0,>=1.8.9->google-cloud-pipeline-components) (18.20.0)\n",
      "Requirement already satisfied: google-api-python-client<2,>=1.7.8 in /opt/conda/lib/python3.7/site-packages (from kfp<2.0.0,>=1.8.9->google-cloud-pipeline-components) (1.8.0)\n",
      "Requirement already satisfied: requests-toolbelt<1,>=0.8.0 in /home/jupyter/.local/lib/python3.7/site-packages (from kfp<2.0.0,>=1.8.9->google-cloud-pipeline-components) (0.10.1)\n",
      "Requirement already satisfied: cloudpickle<3,>=2.0.0 in /opt/conda/lib/python3.7/site-packages (from kfp<2.0.0,>=1.8.9->google-cloud-pipeline-components) (2.2.1)\n",
      "Requirement already satisfied: kfp-server-api<2.0.0,>=1.1.2 in /home/jupyter/.local/lib/python3.7/site-packages (from kfp<2.0.0,>=1.8.9->google-cloud-pipeline-components) (1.8.5)\n",
      "Requirement already satisfied: jsonschema<5,>=3.0.1 in /home/jupyter/.local/lib/python3.7/site-packages (from kfp<2.0.0,>=1.8.9->google-cloud-pipeline-components) (3.2.0)\n",
      "Requirement already satisfied: tabulate<1,>=0.8.6 in /opt/conda/lib/python3.7/site-packages (from kfp<2.0.0,>=1.8.9->google-cloud-pipeline-components) (0.9.0)\n",
      "Requirement already satisfied: click<9,>=7.1.2 in /opt/conda/lib/python3.7/site-packages (from kfp<2.0.0,>=1.8.9->google-cloud-pipeline-components) (8.1.3)\n",
      "Requirement already satisfied: Deprecated<2,>=1.2.7 in /opt/conda/lib/python3.7/site-packages (from kfp<2.0.0,>=1.8.9->google-cloud-pipeline-components) (1.2.13)\n",
      "Requirement already satisfied: strip-hints<1,>=0.1.8 in /home/jupyter/.local/lib/python3.7/site-packages (from kfp<2.0.0,>=1.8.9->google-cloud-pipeline-components) (0.1.10)\n",
      "Requirement already satisfied: docstring-parser<1,>=0.7.3 in /home/jupyter/.local/lib/python3.7/site-packages (from kfp<2.0.0,>=1.8.9->google-cloud-pipeline-components) (0.15)\n",
      "Requirement already satisfied: kfp-pipeline-spec<0.2.0,>=0.1.16 in /home/jupyter/.local/lib/python3.7/site-packages (from kfp<2.0.0,>=1.8.9->google-cloud-pipeline-components) (0.1.16)\n",
      "Requirement already satisfied: fire<1,>=0.3.1 in /home/jupyter/.local/lib/python3.7/site-packages (from kfp<2.0.0,>=1.8.9->google-cloud-pipeline-components) (0.5.0)\n",
      "Requirement already satisfied: uritemplate<4,>=3.0.1 in /opt/conda/lib/python3.7/site-packages (from kfp<2.0.0,>=1.8.9->google-cloud-pipeline-components) (3.0.1)\n",
      "Requirement already satisfied: urllib3<2 in /opt/conda/lib/python3.7/site-packages (from kfp<2.0.0,>=1.8.9->google-cloud-pipeline-components) (1.26.15)\n",
      "Requirement already satisfied: pydantic<2,>=1.8.2 in /home/jupyter/.local/lib/python3.7/site-packages (from kfp<2.0.0,>=1.8.9->google-cloud-pipeline-components) (1.9.2)\n",
      "Requirement already satisfied: typer<1.0,>=0.3.2 in /opt/conda/lib/python3.7/site-packages (from kfp<2.0.0,>=1.8.9->google-cloud-pipeline-components) (0.7.0)\n",
      "Requirement already satisfied: typing-extensions<5,>=3.7.4 in /home/jupyter/.local/lib/python3.7/site-packages (from kfp<2.0.0,>=1.8.9->google-cloud-pipeline-components) (3.10.0.2)\n",
      "Requirement already satisfied: six in /opt/conda/lib/python3.7/site-packages (from absl-py<=0.11,>=0.9->kfp<2.0.0,>=1.8.9->google-cloud-pipeline-components) (1.16.0)\n",
      "Requirement already satisfied: importlib-metadata in /opt/conda/lib/python3.7/site-packages (from click<9,>=7.1.2->kfp<2.0.0,>=1.8.9->google-cloud-pipeline-components) (4.11.4)\n",
      "Requirement already satisfied: wrapt<2,>=1.10 in /opt/conda/lib/python3.7/site-packages (from Deprecated<2,>=1.2.7->kfp<2.0.0,>=1.8.9->google-cloud-pipeline-components) (1.15.0)\n",
      "Requirement already satisfied: termcolor in /opt/conda/lib/python3.7/site-packages (from fire<1,>=0.3.1->kfp<2.0.0,>=1.8.9->google-cloud-pipeline-components) (2.3.0)\n",
      "Requirement already satisfied: httplib2<1dev,>=0.9.2 in /opt/conda/lib/python3.7/site-packages (from google-api-python-client<2,>=1.7.8->kfp<2.0.0,>=1.8.9->google-cloud-pipeline-components) (0.21.0)\n",
      "Requirement already satisfied: google-auth-httplib2>=0.0.3 in /opt/conda/lib/python3.7/site-packages (from google-api-python-client<2,>=1.7.8->kfp<2.0.0,>=1.8.9->google-cloud-pipeline-components) (0.1.0)\n",
      "Requirement already satisfied: cachetools<5.0,>=2.0.0 in /opt/conda/lib/python3.7/site-packages (from google-auth<3.0dev,>=1.25.0->google-api-core!=2.0.*,!=2.1.*,!=2.2.*,!=2.3.*,!=2.4.*,!=2.5.*,!=2.6.*,!=2.7.*,<3.0.0dev,>=1.31.5->google-cloud-pipeline-components) (4.2.4)\n",
      "Requirement already satisfied: pyasn1-modules>=0.2.1 in /opt/conda/lib/python3.7/site-packages (from google-auth<3.0dev,>=1.25.0->google-api-core!=2.0.*,!=2.1.*,!=2.2.*,!=2.3.*,!=2.4.*,!=2.5.*,!=2.6.*,!=2.7.*,<3.0.0dev,>=1.31.5->google-cloud-pipeline-components) (0.2.7)\n",
      "Requirement already satisfied: setuptools>=40.3.0 in /opt/conda/lib/python3.7/site-packages (from google-auth<3.0dev,>=1.25.0->google-api-core!=2.0.*,!=2.1.*,!=2.2.*,!=2.3.*,!=2.4.*,!=2.5.*,!=2.6.*,!=2.7.*,<3.0.0dev,>=1.31.5->google-cloud-pipeline-components) (67.7.2)\n",
      "Requirement already satisfied: rsa<5,>=3.1.4 in /opt/conda/lib/python3.7/site-packages (from google-auth<3.0dev,>=1.25.0->google-api-core!=2.0.*,!=2.1.*,!=2.2.*,!=2.3.*,!=2.4.*,!=2.5.*,!=2.6.*,!=2.7.*,<3.0.0dev,>=1.31.5->google-cloud-pipeline-components) (4.9)\n",
      "Requirement already satisfied: python-dateutil<3.0dev,>=2.7.2 in /opt/conda/lib/python3.7/site-packages (from google-cloud-bigquery<4.0.0dev,>=1.15.0->google-cloud-aiplatform<2,>=1.14.0->google-cloud-pipeline-components) (2.8.2)\n",
      "Requirement already satisfied: google-crc32c<2.0dev,>=1.0 in /opt/conda/lib/python3.7/site-packages (from google-resumable-media>=2.3.2->google-cloud-storage<3,>=2.2.1->google-cloud-pipeline-components) (1.5.0)\n",
      "Requirement already satisfied: attrs>=17.4.0 in /opt/conda/lib/python3.7/site-packages (from jsonschema<5,>=3.0.1->kfp<2.0.0,>=1.8.9->google-cloud-pipeline-components) (22.2.0)\n",
      "Requirement already satisfied: pyrsistent>=0.14.0 in /opt/conda/lib/python3.7/site-packages (from jsonschema<5,>=3.0.1->kfp<2.0.0,>=1.8.9->google-cloud-pipeline-components) (0.18.1)\n",
      "Requirement already satisfied: certifi in /opt/conda/lib/python3.7/site-packages (from kfp-server-api<2.0.0,>=1.1.2->kfp<2.0.0,>=1.8.9->google-cloud-pipeline-components) (2022.12.7)\n",
      "Requirement already satisfied: websocket-client!=0.40.0,!=0.41.*,!=0.42.*,>=0.32.0 in /opt/conda/lib/python3.7/site-packages (from kubernetes<26,>=8.0.0->kfp<2.0.0,>=1.8.9->google-cloud-pipeline-components) (1.5.1)\n",
      "Requirement already satisfied: requests-oauthlib in /opt/conda/lib/python3.7/site-packages (from kubernetes<26,>=8.0.0->kfp<2.0.0,>=1.8.9->google-cloud-pipeline-components) (1.3.1)\n",
      "Requirement already satisfied: pyparsing!=3.0.5,>=2.0.2 in /opt/conda/lib/python3.7/site-packages (from packaging>=14.3->google-cloud-aiplatform<2,>=1.14.0->google-cloud-pipeline-components) (3.0.9)\n",
      "Requirement already satisfied: charset-normalizer<4,>=2 in /opt/conda/lib/python3.7/site-packages (from requests<3.0.0dev,>=2.18.0->google-api-core!=2.0.*,!=2.1.*,!=2.2.*,!=2.3.*,!=2.4.*,!=2.5.*,!=2.6.*,!=2.7.*,<3.0.0dev,>=1.31.5->google-cloud-pipeline-components) (2.1.1)\n",
      "Requirement already satisfied: idna<4,>=2.5 in /opt/conda/lib/python3.7/site-packages (from requests<3.0.0dev,>=2.18.0->google-api-core!=2.0.*,!=2.1.*,!=2.2.*,!=2.3.*,!=2.4.*,!=2.5.*,!=2.6.*,!=2.7.*,<3.0.0dev,>=1.31.5->google-cloud-pipeline-components) (3.4)\n",
      "Requirement already satisfied: wheel in /opt/conda/lib/python3.7/site-packages (from strip-hints<1,>=0.1.8->kfp<2.0.0,>=1.8.9->google-cloud-pipeline-components) (0.40.0)\n",
      "Requirement already satisfied: pyasn1<0.5.0,>=0.4.6 in /opt/conda/lib/python3.7/site-packages (from pyasn1-modules>=0.2.1->google-auth<3.0dev,>=1.25.0->google-api-core!=2.0.*,!=2.1.*,!=2.2.*,!=2.3.*,!=2.4.*,!=2.5.*,!=2.6.*,!=2.7.*,<3.0.0dev,>=1.31.5->google-cloud-pipeline-components) (0.4.8)\n",
      "Requirement already satisfied: zipp>=0.5 in /opt/conda/lib/python3.7/site-packages (from importlib-metadata->click<9,>=7.1.2->kfp<2.0.0,>=1.8.9->google-cloud-pipeline-components) (3.15.0)\n",
      "Requirement already satisfied: oauthlib>=3.0.0 in /opt/conda/lib/python3.7/site-packages (from requests-oauthlib->kubernetes<26,>=8.0.0->kfp<2.0.0,>=1.8.9->google-cloud-pipeline-components) (3.2.2)\n",
      "Installing collected packages: google-cloud-storage, kfp, google-cloud-aiplatform, google-cloud-pipeline-components\n",
      "  Attempting uninstall: google-cloud-storage\n",
      "    Found existing installation: google-cloud-storage 1.44.0\n",
      "    Uninstalling google-cloud-storage-1.44.0:\n",
      "      Successfully uninstalled google-cloud-storage-1.44.0\n",
      "  Attempting uninstall: kfp\n",
      "    Found existing installation: kfp 1.8.9\n",
      "    Uninstalling kfp-1.8.9:\n",
      "      Successfully uninstalled kfp-1.8.9\n",
      "\u001b[33m  WARNING: The scripts dsl-compile, dsl-compile-v2 and kfp are installed in '/home/jupyter/.local/bin' which is not on PATH.\n",
      "  Consider adding this directory to PATH or, if you prefer to suppress this warning, use --no-warn-script-location.\u001b[0m\u001b[33m\n",
      "\u001b[0m  Attempting uninstall: google-cloud-aiplatform\n",
      "    Found existing installation: google-cloud-aiplatform 1.7.0\n",
      "    Uninstalling google-cloud-aiplatform-1.7.0:\n",
      "      Successfully uninstalled google-cloud-aiplatform-1.7.0\n",
      "\u001b[33m  WARNING: The script tb-gcp-uploader is installed in '/home/jupyter/.local/bin' which is not on PATH.\n",
      "  Consider adding this directory to PATH or, if you prefer to suppress this warning, use --no-warn-script-location.\u001b[0m\u001b[33m\n",
      "\u001b[0m  Attempting uninstall: google-cloud-pipeline-components\n",
      "    Found existing installation: google-cloud-pipeline-components 0.2.0\n",
      "    Uninstalling google-cloud-pipeline-components-0.2.0:\n",
      "      Successfully uninstalled google-cloud-pipeline-components-0.2.0\n",
      "Successfully installed google-cloud-aiplatform-1.25.0 google-cloud-pipeline-components-1.0.43 google-cloud-storage-2.9.0 kfp-1.8.22\n"
     ]
    }
   ],
   "source": [
    "!pip3 install google-cloud-pipeline-components --upgrade --user"
   ]
  },
  {
   "cell_type": "code",
   "execution_count": null,
   "id": "aad17547-3f89-4b08-bb7e-e2c1b096d2d6",
   "metadata": {},
   "outputs": [],
   "source": [
    "import kfp\n",
    "from kfp import dsl\n",
    "from kfp.v2 import compiler\n",
    "from kfp.v2.dsl import component\n",
    "from kfp.v2.google.client import AIPlatformClient"
   ]
  },
  {
   "cell_type": "code",
   "execution_count": null,
   "id": "82c9030d-8b2f-4869-be68-db81764c3653",
   "metadata": {},
   "outputs": [],
   "source": [
    "PROJECT_ID = 'qwiklabs-asl-02-71a732dc6bb9'\n",
    "REGION = 'us-central1'\n",
    "BUCKET_NAME = 'gs://qwiklabs-asl-02-71a732dc6bb9/ROSHN-ASL'\n",
    "PIPELINE_ROOT = \"{}/pipeline_root_images/\".format(BUCKET_NAME)"
   ]
  },
  {
   "cell_type": "code",
   "execution_count": null,
   "id": "304a6e95-6543-4c96-bb03-63f181ffdbcc",
   "metadata": {},
   "outputs": [
    {
     "name": "stdout",
     "output_type": "stream",
     "text": [
      "env: PATH=/usr/local/cuda/bin:/opt/conda/bin:/opt/conda/condabin:/usr/local/bin:/usr/bin:/bin:/usr/local/games:/usr/games:/home/jupyter/.local/bin\n"
     ]
    }
   ],
   "source": [
    "PATH=%env PATH\n",
    "%env PATH={PATH}:/home/jupyter/.local/bin"
   ]
  },
  {
   "cell_type": "code",
   "execution_count": null,
   "id": "7fbb0bda-1c0d-4803-85af-a49813f2edce",
   "metadata": {},
   "outputs": [],
   "source": [
    "from google.cloud import aiplatform\n",
    "from google_cloud_pipeline_components import aiplatform as gcp_aip"
   ]
  },
  {
   "cell_type": "markdown",
   "id": "ee57757c-a482-453b-869a-ffe47a1a58b3",
   "metadata": {
    "tags": []
   },
   "source": [
    "# steps\n",
    "* dataset\n",
    "* training\n",
    "* endpoint\n",
    "* deployment"
   ]
  },
  {
   "cell_type": "code",
   "execution_count": null,
   "id": "e12a4081-af8f-4f1c-9212-ff7d9cb1854e",
   "metadata": {},
   "outputs": [],
   "source": [
    "@dsl.pipeline(name=\"recycle\", pipeline_root = PIPELINE_ROOT)\n",
    "def Recyclepipeline():\n",
    "\n",
    "    image_data = gcp_aip.ImageDatasetCreateOp(display_name='Waste_Dataset',\n",
    "                                              gcs_source='gs://qwiklabs-asl-02-71a732dc6bb9/ROSHN-ASL/DATASET/TRAIN/training_dataset.csv',\n",
    "                                              import_schema_uri=aiplatform.schema.dataset.ioformat.image.single_label_classification,\n",
    "                                              project = PROJECT_ID\n",
    "                                             )\n",
    "\n",
    "\n",
    "    training_out = gcp_aip.AutoMLImageTrainingJobRunOp(project = PROJECT_ID,\n",
    "                                        display_name='Waste_Training',\n",
    "                                        prediction_type='classification',\n",
    "                                        dataset = image_data.outputs['dataset'],\n",
    "                                        budget_milli_node_hours=8000)\n",
    "\n",
    "\n",
    "\n",
    "    endpoint_out = gcp_aip.EndpointCreateOp(project = PROJECT_ID,\n",
    "                             location=REGION,\n",
    "                             display_name='image_endpoint'\n",
    "                            )\n",
    "\n",
    "    gcp_aip.ModelDeployOp(model= training_out.outputs[\"model\"],\n",
    "                          endpoint = endpoint_out.outputs[\"endpoint\"],\n",
    "                          automatic_resources_min_replica_count=1,\n",
    "                          automatic_resources_max_replica_count=1)"
   ]
  },
  {
   "cell_type": "code",
   "execution_count": null,
   "id": "98ceee54-1a38-491d-91a3-9f3c34fe4460",
   "metadata": {},
   "outputs": [],
   "source": [
    "compiler.Compiler().compile(pipeline_func=Recyclepipeline, package_path=\"waste.json\")"
   ]
  },
  {
   "cell_type": "code",
   "execution_count": null,
   "id": "c67360ce-e3ce-4397-9493-c5050e81c53c",
   "metadata": {},
   "outputs": [],
   "source": [
    "job = aiplatform.PipelineJob(\n",
    "    display_name=\"waste-recycle-pipeline\",\n",
    "    template_path=\"waste.json\",\n",
    "    pipeline_root=PIPELINE_ROOT,\n",
    "    enable_caching=False,\n",
    "    project=PROJECT_ID\n",
    ")"
   ]
  },
  {
   "cell_type": "code",
   "execution_count": null,
   "id": "378b2824-cd44-4220-964c-ac2dd0f965a3",
   "metadata": {},
   "outputs": [
    {
     "name": "stdout",
     "output_type": "stream",
     "text": [
      "Creating PipelineJob\n",
      "PipelineJob created. Resource name: projects/153653556327/locations/us-central1/pipelineJobs/recycle-20230522143212\n",
      "To use this PipelineJob in another session:\n",
      "pipeline_job = aiplatform.PipelineJob.get('projects/153653556327/locations/us-central1/pipelineJobs/recycle-20230522143212')\n",
      "View Pipeline Job:\n",
      "https://console.cloud.google.com/vertex-ai/locations/us-central1/pipelines/runs/recycle-20230522143212?project=153653556327\n"
     ]
    }
   ],
   "source": [
    "job.submit()"
   ]
  },
  {
   "cell_type": "markdown",
   "id": "4dc00047-fbe1-4e13-88bf-20402d317988",
   "metadata": {},
   "source": [
    "# CI/CD kubeflow "
   ]
  },
  {
   "cell_type": "code",
   "execution_count": 1,
   "id": "a82f5e85-624e-4e9d-b9e1-a7e892b35eda",
   "metadata": {},
   "outputs": [],
   "source": [
    "# PROJECT_ID = 'qwiklabs-asl-02-71a732dc6bb9'\n",
    "# REGION = \"us-central1\"\n",
    "# ARTIFACT_STORE = f\"gs://{PROJECT_ID}-kfp-artifact-store\""
   ]
  },
  {
   "cell_type": "code",
   "execution_count": 2,
   "id": "536598ac-6c73-481b-bc4c-e1e85fefcb30",
   "metadata": {},
   "outputs": [
    {
     "name": "stdout",
     "output_type": "stream",
     "text": [
      "gs://qwiklabs-asl-02-71a732dc6bb9-kfp-artifact-store/\n"
     ]
    }
   ],
   "source": [
    "# !gsutil ls | grep ^{ARTIFACT_STORE}/$ || gsutil mb -l {REGION} {ARTIFACT_STORE}"
   ]
  },
  {
   "cell_type": "code",
   "execution_count": 3,
   "id": "1d7f55e7-0230-4d41-965d-9b8660202dbc",
   "metadata": {},
   "outputs": [
    {
     "name": "stdout",
     "output_type": "stream",
     "text": [
      "cat: kfp-cli_vertex/Dockerfile: No such file or directory\n"
     ]
    }
   ],
   "source": [
    "# !cat kfp-cli_vertex/Dockerfile"
   ]
  },
  {
   "cell_type": "code",
   "execution_count": null,
   "id": "12e8b943-7bd2-41d7-9f53-a50238aeb472",
   "metadata": {},
   "outputs": [],
   "source": [
    "# KFP_CLI_IMAGE_NAME = \"kfp-cli-vertex\"\n",
    "# KFP_CLI_IMAGE_URI = f\"gcr.io/{PROJECT_ID}/{KFP_CLI_IMAGE_NAME}:latest\"\n",
    "# KFP_CLI_IMAGE_URI"
   ]
  },
  {
   "cell_type": "code",
   "execution_count": null,
   "id": "978bddaf-d719-4d50-bb28-cfec030c2dcd",
   "metadata": {},
   "outputs": [],
   "source": [
    "# !gcloud builds submit --timeout 15m --tag {KFP_CLI_IMAGE_URI} kfp-cli_vertex"
   ]
  },
  {
   "cell_type": "code",
   "execution_count": null,
   "id": "6a150258-b767-4055-8749-412fd3cde505",
   "metadata": {},
   "outputs": [],
   "source": [
    "# SUBSTITUTIONS = f\"_REGION={REGION},_PIPELINE_FOLDER=./\"\n",
    "# SUBSTITUTIONS"
   ]
  },
  {
   "cell_type": "code",
   "execution_count": null,
   "id": "4b9a1fe2-4d44-41d4-b391-7358345d2480",
   "metadata": {},
   "outputs": [],
   "source": [
    "# !gcloud builds submit . --config cloudbuild_vertex.yaml --substitutions {SUBSTITUTIONS}"
   ]
  }
 ],
 "metadata": {
  "environment": {
   "kernel": "python3",
   "name": "tf2-gpu.2-8.m108",
   "type": "gcloud",
   "uri": "gcr.io/deeplearning-platform-release/tf2-gpu.2-8:m108"
  },
  "kernelspec": {
   "display_name": "Python 3 (ipykernel)",
   "language": "python",
   "name": "python3"
  },
  "language_info": {
   "codemirror_mode": {
    "name": "ipython",
    "version": 3
   },
   "file_extension": ".py",
   "mimetype": "text/x-python",
   "name": "python",
   "nbconvert_exporter": "python",
   "pygments_lexer": "ipython3",
   "version": "3.7.12"
  }
 },
 "nbformat": 4,
 "nbformat_minor": 5
}
